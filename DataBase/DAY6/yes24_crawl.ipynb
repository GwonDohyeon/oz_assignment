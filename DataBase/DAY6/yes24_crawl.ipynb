{
 "cells": [
  {
   "cell_type": "code",
   "execution_count": 2,
   "metadata": {},
   "outputs": [
    {
     "data": {
      "text/plain": [
       "'C:\\\\Users\\\\dhg12\\\\.wdm\\\\drivers\\\\chromedriver\\\\win64\\\\131.0.6778.264\\\\chromedriver-win32/chromedriver.exe'"
      ]
     },
     "execution_count": 2,
     "metadata": {},
     "output_type": "execute_result"
    }
   ],
   "source": [
    "from webdriver_manager.chrome import ChromeDriverManager\n",
    "ChromeDriverManager().install()"
   ]
  },
  {
   "cell_type": "code",
   "execution_count": 5,
   "metadata": {},
   "outputs": [],
   "source": [
    "from selenium import webdriver\n",
    "url=\"https://google.com\"\n",
    "browser=webdriver.Chrome()\n",
    "browser.get(url)"
   ]
  },
  {
   "cell_type": "code",
   "execution_count": 6,
   "metadata": {},
   "outputs": [
    {
     "data": {
      "text/plain": [
       "'대한민국'"
      ]
     },
     "execution_count": 6,
     "metadata": {},
     "output_type": "execute_result"
    }
   ],
   "source": [
    "from selenium.webdriver.common.by import By\n",
    "browser.find_element(By.CLASS_NAME,\"uU7dJb\").text"
   ]
  },
  {
   "cell_type": "code",
   "execution_count": 2,
   "metadata": {},
   "outputs": [
    {
     "name": "stdout",
     "output_type": "stream",
     "text": [
      "https://www.yes24.com/Product/Goods/142053395\n",
      "https://www.yes24.com/Product/Goods/126590468\n",
      "https://www.yes24.com/Product/Goods/13137546\n",
      "https://www.yes24.com/Product/Goods/125557465\n",
      "https://www.yes24.com/Product/Goods/138282792\n",
      "https://www.yes24.com/Product/Goods/136298166\n",
      "https://www.yes24.com/Product/Goods/108422348\n",
      "https://www.yes24.com/Product/Goods/140537260\n",
      "https://www.yes24.com/Product/Goods/140231250\n",
      "https://www.yes24.com/Product/Goods/103495056\n",
      "https://www.yes24.com/Product/Goods/8759796\n",
      "https://www.yes24.com/Product/Goods/124043812\n",
      "https://www.yes24.com/Product/Goods/116586303\n",
      "https://www.yes24.com/Product/Goods/140285749\n",
      "https://www.yes24.com/Product/Goods/124043802\n",
      "https://www.yes24.com/Product/Goods/140199263\n",
      "https://www.yes24.com/Product/Goods/140199250\n",
      "https://www.yes24.com/Product/Goods/138831340\n",
      "https://www.yes24.com/Product/Goods/123400303\n",
      "https://www.yes24.com/Product/Goods/122120495\n",
      "https://www.yes24.com/Product/Goods/142068380\n",
      "https://www.yes24.com/Product/Goods/133809700\n",
      "https://www.yes24.com/Product/Goods/11467936\n",
      "https://www.yes24.com/Product/Goods/140371473\n"
     ]
    }
   ],
   "source": [
    "from selenium import webdriver\n",
    "from selenium.webdriver.common.by import By\n",
    "url=\"https://www.yes24.com/Product/Category/BestSeller?categoryNumber=001&pageNumber=1&pageSize=24\"\n",
    "browser=webdriver.Chrome()\n",
    "browser.get(url)\n",
    "data=browser.find_elements(By.CLASS_NAME,'gd_name')\n",
    "for i in data:\n",
    "    print(i.get_attribute('href'))"
   ]
  },
  {
   "cell_type": "code",
   "execution_count": 6,
   "metadata": {},
   "outputs": [
    {
     "name": "stdout",
     "output_type": "stream",
     "text": [
      "현재 1번째 페이지를 크롤링 중입니다.\n",
      "현재 2번째 페이지를 크롤링 중입니다.\n",
      "현재 3번째 페이지를 크롤링 중입니다.\n",
      "초역 부처의 말\n",
      "코이케 류노스케 저/박재현 역\n",
      "포레스트북스\n",
      "2024-05-30\n",
      "9.5\n",
      "239\n",
      "570918\n",
      "17800\n",
      "1\n",
      "1\n"
     ]
    }
   ],
   "source": [
    "from selenium import webdriver\n",
    "from selenium.webdriver.common.by import By\n",
    "import time\n",
    "\n",
    "browser = webdriver.Chrome()\n",
    "link_list = []\n",
    "for i in range(1, 4):\n",
    "    print(f\"현재 {i}번째 페이지를 크롤링 중입니다.\")\n",
    "    url = f\"https://www.yes24.com/Product/Category/BestSeller?categoryNumber=001&pageNumber={i}&pageSize=24\"\n",
    "    browser.get(url)\n",
    "    data = browser.find_elements(By.CLASS_NAME, \"gd_name\")\n",
    "    for j in data:\n",
    "        link_list.append(j.get_attribute(\"href\"))\n",
    "    time.sleep(1)\n",
    "browser.get(link_list[0])\n",
    "title = browser.find_element(By.CLASS_NAME, \"gd_name\").text\n",
    "author = browser.find_element(By.CLASS_NAME, \"gd_auth\").text\n",
    "publisher = browser.find_element(By.CLASS_NAME, \"gd_pub\").text\n",
    "publishing_raw = browser.find_element(By.CLASS_NAME, \"gd_date\").text\n",
    "rating = browser.find_element(By.CLASS_NAME, \"yes_b\").text\n",
    "review = browser.find_element(By.CLASS_NAME, \"txC_blue\").text\n",
    "sales = browser.find_element(By.CLASS_NAME, \"gd_sellNum\").text.split(\" \")[2]\n",
    "sales=int(sales.replace(\",\",\"\"))\n",
    "price=browser.find_element(By.CLASS_NAME,\"yes_m\").text[:-1]\n",
    "price=int(price.replace(\",\",\"\"))\n",
    "publishing=\"-\".join([x[:-1] for x in publishing_raw.split(\" \")])\n",
    "try:   \n",
    "    ranking=browser.find_element(By.CLASS_NAME,\"gd_best\").text.split(\" | \")[0].split(\" \")[2][:-1]       \n",
    "    \n",
    "except:\n",
    "    ranking=0\n",
    "try:\n",
    "    ranking_weeks=browser.find_element(By.CLASS_NAME,\"gd_best\").text.split(\" | \")[1].split(\" \")[2][:-1]  \n",
    "    ranking_weeks=int(ranking_weeks)\n",
    "except:\n",
    "    ranking_weeks=0 \n",
    "print(title,author,publisher,publishing,rating,review,sales,price,ranking,ranking_weeks,sep=\"\\n\")"
   ]
  },
  {
   "cell_type": "code",
   "execution_count": 8,
   "metadata": {},
   "outputs": [
    {
     "name": "stdout",
     "output_type": "stream",
     "text": [
      "현재 1번째 페이지를 크롤링 중입니다.\n",
      "현재 2번째 페이지를 크롤링 중입니다.\n",
      "현재 3번째 페이지를 크롤링 중입니다.\n"
     ]
    }
   ],
   "source": [
    "# 데이터베이스 연동 후 수집한 데이터를 DB에 저장\n",
    "import pymysql\n",
    "import pymysql.cursors\n",
    "from selenium import webdriver\n",
    "from selenium.webdriver.common.by import By\n",
    "from selenium.webdriver.support.ui import WebDriverWait\n",
    "from selenium.webdriver.support import expected_conditions as EC\n",
    "import time\n",
    "\n",
    "browser = webdriver.Chrome()\n",
    "link_list = []\n",
    "for i in range(1, 4):\n",
    "    print(f\"현재 {i}번째 페이지를 크롤링 중입니다.\")\n",
    "    url = f\"https://www.yes24.com/Product/Category/BestSeller?categoryNumber=001&pageNumber={i}&pageSize=24\"\n",
    "    browser.get(url)\n",
    "    data = browser.find_elements(By.CLASS_NAME, \"gd_name\")\n",
    "    for j in data:\n",
    "        link_list.append(j.get_attribute(\"href\"))\n",
    "    time.sleep(1)\n",
    "\n",
    "connection = pymysql.connect(\n",
    "    host=\"localhost\",\n",
    "    user=\"root\",\n",
    "    password=\"1234\",\n",
    "    db=\"yes24\",\n",
    "    charset=\"utf8mb4\",\n",
    "    cursorclass=pymysql.cursors.DictCursor,\n",
    ")\n",
    "\n",
    "with connection.cursor() as cur:\n",
    "    for link in link_list:\n",
    "        browser.get(link)\n",
    "\n",
    "        try:\n",
    "            title = WebDriverWait(browser, 10).until(\n",
    "                EC.presence_of_element_located((By.CLASS_NAME, \"gd_name\"))\n",
    "            ).text\n",
    "            author = browser.find_element(By.CLASS_NAME, \"gd_auth\").text\n",
    "            publisher = browser.find_element(By.CLASS_NAME, \"gd_pub\").text\n",
    "        except Exception as e:\n",
    "            print(f\"오류 발생: {link} - {e}\")\n",
    "            continue  # 오류 발생 시 해당 링크 건너뛰기\n",
    "        publishing_raw = browser.find_element(By.CLASS_NAME, \"gd_date\").text\n",
    "        try:\n",
    "            rating = browser.find_element(By.CLASS_NAME, \"yes_b\").text\n",
    "            rating=float(rating)\n",
    "        except:\n",
    "            rating=0\n",
    "        review = browser.find_element(By.CLASS_NAME, \"txC_blue\").text\n",
    "        try:\n",
    "            review = int(review.replace(\",\", \"\"))\n",
    "        except:\n",
    "            review = 0\n",
    "        sales = browser.find_element(By.CLASS_NAME, \"gd_sellNum\").text.split(\" \")[2]\n",
    "        sales = int(sales.replace(\",\", \"\"))\n",
    "        price = browser.find_element(By.CLASS_NAME, \"yes_m\").text[:-1]\n",
    "        price = int(price.replace(\",\", \"\"))\n",
    "        publishing = \"-\".join([x[:-1] for x in publishing_raw.split(\" \")])\n",
    "        try:\n",
    "            ranking = (\n",
    "                browser.find_element(By.CLASS_NAME, \"gd_best\")\n",
    "                .text.split(\" | \")[0]\n",
    "                .split(\" \")[2][:-1]\n",
    "            )\n",
    "            ranking = int(ranking)\n",
    "        except:\n",
    "            ranking = 0\n",
    "        try:\n",
    "            ranking_weeks = (\n",
    "                browser.find_element(By.CLASS_NAME, \"gd_best\")\n",
    "                .text.split(\" | \")[1]\n",
    "                .split(\" \")[2][:-1]\n",
    "            )\n",
    "            ranking_weeks = int(ranking_weeks)\n",
    "        except:\n",
    "            ranking_weeks = 0\n",
    "        time.sleep(1)\n",
    "        sql = \"\"\"insert into books(title,author,publisher,publishing,rating,review,sales,price,ranking,ranking_weeks) \n",
    "        values (%s,%s,%s,%s,%s,%s,%s,%s,%s,%s)\"\"\"\n",
    "        cur.execute(\n",
    "            sql,\n",
    "            (\n",
    "                title,\n",
    "                author,\n",
    "                publisher,\n",
    "                publishing,\n",
    "                rating,\n",
    "                review,\n",
    "                sales,\n",
    "                price,\n",
    "                ranking,\n",
    "                ranking_weeks,\n",
    "            ),\n",
    "        )\n",
    "    connection.commit()"
   ]
  }
 ],
 "metadata": {
  "kernelspec": {
   "display_name": ".venv",
   "language": "python",
   "name": "python3"
  },
  "language_info": {
   "codemirror_mode": {
    "name": "ipython",
    "version": 3
   },
   "file_extension": ".py",
   "mimetype": "text/x-python",
   "name": "python",
   "nbconvert_exporter": "python",
   "pygments_lexer": "ipython3",
   "version": "3.9.13"
  }
 },
 "nbformat": 4,
 "nbformat_minor": 2
}

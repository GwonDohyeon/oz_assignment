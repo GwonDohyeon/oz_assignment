{
 "cells": [
  {
   "cell_type": "markdown",
   "metadata": {},
   "source": [
    "<span style=\"font-size:100%\">\n",
    "\n",
    "수업은 모두 열심히 들으셨나요?\n",
    "\n",
    "간혹 강의에서 언급되지 않은 내용이 문제로 나올 수 있습니다.<br>\n",
    "그럴땐 강의 내용 외 문제는 구글링을 통해 해결해주세요<br></span>\n",
    "<span style=\"font-size:80%\">\n",
    "(구글링 또한 개발자가 갖쳐야할 역량 중에 하나랍니다 😊)\n",
    "</span>\n",
    "\n",
    "---"
   ]
  },
  {
   "cell_type": "markdown",
   "metadata": {},
   "source": [
    "<span style=\"font-size:80%\">[문제1]<br><br></span>\n",
    "```인터프리트 방식에 대해 설명하고 2개 이상의 장점을 설명해주세요```"
   ]
  },
  {
   "cell_type": "markdown",
   "metadata": {},
   "source": [
    "<span style=\"color:red\">답변</span>"
   ]
  },
  {
   "cell_type": "markdown",
   "metadata": {},
   "source": [
    "python이나 javascript같은 고급언어로 작성된 명령어를 한줄 씩 읽어들여서 실행하는 방식으로 코드 전체를 읽어서 목적파일을 생성하여 실행하는 컴파일 방식과 다르게 번역과 동시에 실행하므로 적은 양의 내용을 추가하고 테스트하기 용이하다."
   ]
  },
  {
   "cell_type": "markdown",
   "metadata": {},
   "source": [
    "---"
   ]
  },
  {
   "cell_type": "markdown",
   "metadata": {},
   "source": [
    "<span style=\"font-size:80%\">[문제2]<br><br></span>\n",
    "```동적 타입 방식의 장점과 단점을 간략히 설명해주세요```"
   ]
  },
  {
   "cell_type": "markdown",
   "metadata": {},
   "source": [
    "<span style=\"color:red\">답변</span>"
   ]
  },
  {
   "cell_type": "markdown",
   "metadata": {},
   "source": [
    "동적 타입의 경우 변수 타입을 결정하지 않고 코드 실행 시에 판단하는 방법으로 예상치 못한 자료형이 변수에 들어와 예상치 못한 실행 결과를 불러온다.\n",
    "즉 타입 안전성이 떨어진다고 볼 수 있다. 그러나 코드 작성 시에 빠르게 코드를 작성할 수 있다."
   ]
  },
  {
   "cell_type": "markdown",
   "metadata": {},
   "source": [
    "---"
   ]
  },
  {
   "cell_type": "markdown",
   "metadata": {},
   "source": [
    "<span style=\"font-size:80%\">[문제3]<br><br></span>\n",
    "```Python으로 정적타입 방식의 코드를 작성할 수 있는 방법을 구글링을 통해 검색 후 설명해주세요```"
   ]
  },
  {
   "cell_type": "markdown",
   "metadata": {},
   "source": [
    "<span style=\"color:red\">답변</span>"
   ]
  },
  {
   "cell_type": "markdown",
   "metadata": {},
   "source": [
    "python 3.5부터 typing모듈을 도입하여 type hint 기능을 사용하여 정적타입 검사를 흉내낼 수 있다."
   ]
  },
  {
   "cell_type": "code",
   "execution_count": null,
   "metadata": {},
   "outputs": [],
   "source": [
    "from typing import List, Tuple, Dict\n",
    "\n",
    "# 변수 타입 힌트\n",
    "name: str = \"Alice\"\n",
    "age: int = 30\n",
    "height: float = 5.9\n",
    "is_student: bool = False\n",
    "\n",
    "# 함수 타입 힌트\n",
    "def greet(name: str) -> str:\n",
    "    return f\"Hello, {name}!\"\n",
    "\n",
    "def add(a: int, b: int) -> int:\n",
    "    return a + b\n",
    "\n",
    "def get_average(scores: List[int]) -> float:\n",
    "    return sum(scores) / len(scores)\n",
    "\n",
    "# 리스트\n",
    "numbers: List[int] = [1, 2, 3, 4]\n",
    "\n",
    "# 튜플\n",
    "person: Tuple[str, int] = (\"Alice\", 30)\n",
    "\n",
    "# 딕셔너리\n",
    "grades: Dict[str, float] = {\"Math\": 95.0, \"English\": 88.5}\n"
   ]
  },
  {
   "cell_type": "markdown",
   "metadata": {},
   "source": [
    "---"
   ]
  },
  {
   "cell_type": "markdown",
   "metadata": {},
   "source": [
    "<span style=\"font-size:80%\">[문제4]<br><br></span>\n",
    "```프로세스와 스레드의 차이점을 설명해주세요```"
   ]
  },
  {
   "cell_type": "markdown",
   "metadata": {},
   "source": [
    "<span style=\"color:red\">답변</span>"
   ]
  },
  {
   "cell_type": "markdown",
   "metadata": {},
   "source": [
    "프로세스는 컴퓨터에서 실행되고 있는 하나의 프로그램을 의미하고 쓰레드는 하나의 프로세스에서 자원과 메모리 공간을 공유, 분배받아 실행되고있는 하나의 흐름을 의미한다."
   ]
  },
  {
   "cell_type": "markdown",
   "metadata": {},
   "source": [
    "---"
   ]
  },
  {
   "cell_type": "markdown",
   "metadata": {},
   "source": [
    "<span style=\"font-size:80%\">[문제5]<br><br></span>\n",
    "```Python 2버전대와 3버전대의 차이를 성명해주세요```"
   ]
  },
  {
   "cell_type": "markdown",
   "metadata": {},
   "source": [
    "<span style=\"color:red\">답변</span>"
   ]
  },
  {
   "cell_type": "markdown",
   "metadata": {},
   "source": [
    "Python 2와 Python 3는 서로 호환되지 않는 두 가지 주요 버전입니다. Python 2는 2020년 1월 1일부로 공식 지원이 종료되었으며, Python 3가 현재 표준입니다. 아래는 Python 2와 Python 3의 주요 차이점을 정리한 내용입니다.\n",
    "\n",
    "---\n",
    "\n",
    "## 🚀 **1. print문 vs print 함수**\n",
    "\n",
    "- **Python 2:** `print`는 **문법적 명령어(statement)**입니다.  \n",
    "- **Python 3:** `print`는 **함수(function)**입니다.\n",
    "\n",
    "```python\n",
    "# Python 2\n",
    "print \"Hello, World!\"  # 문법적 명령어\n",
    "\n",
    "# Python 3\n",
    "print(\"Hello, World!\")  # 함수\n",
    "```\n",
    "\n",
    "✅ **이유:** Python 3에서는 `print`를 함수로 만들어 유연성을 높였습니다.\n",
    "\n",
    "---\n",
    "\n",
    "## 🚀 **2. 나눗셈 연산자 (`/`)**\n",
    "\n",
    "- **Python 2:** `/`는 정수 나눗셈(integer division)입니다.  \n",
    "- **Python 3:** `/`는 실수 나눗셈(float division)입니다.\n",
    "\n",
    "```python\n",
    "# Python 2\n",
    "print 5 / 2  # 출력: 2 (정수 나눗셈)\n",
    "\n",
    "# Python 3\n",
    "print(5 / 2)  # 출력: 2.5 (실수 나눗셈)\n",
    "```\n",
    "\n",
    "✅ **Python 2에서 실수 나눗셈을 원할 경우:** `5.0 / 2` 또는 `from __future__ import division` 사용\n",
    "\n",
    "---\n",
    "\n",
    "## 🚀 **3. Unicode 문자열 처리**\n",
    "\n",
    "- **Python 2:** 문자열은 **ASCII 문자열**입니다. 유니코드 문자열은 `u'문자열'`로 표기해야 합니다.  \n",
    "- **Python 3:** 모든 문자열은 **유니코드(Unicode)**입니다.\n",
    "\n",
    "```python\n",
    "# Python 2\n",
    "print type('Hello')  # <type 'str'>\n",
    "print type(u'Hello')  # <type 'unicode'>\n",
    "\n",
    "# Python 3\n",
    "print(type('Hello'))  # <class 'str'>\n",
    "```\n",
    "\n",
    "✅ **Python 3:** 유니코드가 기본값이 되어 다국어 지원이 원활해졌습니다.\n",
    "\n",
    "---\n",
    "\n",
    "## 🚀 **4. input() 함수**\n",
    "\n",
    "- **Python 2:** `input()`는 사용자가 입력한 값을 **실행(evaluate)**합니다. 안전하지 않습니다. 일반적인 문자열 입력은 `raw_input()`을 사용합니다.  \n",
    "- **Python 3:** `input()`는 항상 문자열을 반환합니다.\n",
    "\n",
    "```python\n",
    "# Python 2\n",
    "name = raw_input(\"Enter your name: \")  # 문자열 입력\n",
    "age = input(\"Enter your age: \")  # 실행되는 코드 (위험)\n",
    "\n",
    "# Python 3\n",
    "name = input(\"Enter your name: \")  # 문자열 입력\n",
    "```\n",
    "\n",
    "✅ **Python 2의 `raw_input`가 Python 3의 `input`로 대체**\n",
    "\n",
    "---\n",
    "\n",
    "## 🚀 **5. xrange() 대신 range()**\n",
    "\n",
    "- **Python 2:** `range()`는 리스트를 반환하고, `xrange()`는 이터레이터를 반환합니다.  \n",
    "- **Python 3:** `xrange()`가 제거되었고, `range()`가 이터레이터로 동작합니다.\n",
    "\n",
    "```python\n",
    "# Python 2\n",
    "for i in xrange(5):\n",
    "    print i\n",
    "\n",
    "# Python 3\n",
    "for i in range(5):\n",
    "    print(i)\n",
    "```\n",
    "\n",
    "✅ **Python 3에서 `range`는 메모리를 효율적으로 사용합니다.**\n",
    "\n",
    "---\n",
    "\n",
    "## 🚀 **6. Exception 처리 문법**\n",
    "\n",
    "- **Python 2:** `except` 구문에서 `,`를 사용합니다.  \n",
    "- **Python 3:** `as` 키워드를 사용합니다.\n",
    "\n",
    "```python\n",
    "# Python 2\n",
    "try:\n",
    "    raise ValueError(\"Error\")\n",
    "except ValueError, e:\n",
    "    print e\n",
    "\n",
    "# Python 3\n",
    "try:\n",
    "    raise ValueError(\"Error\")\n",
    "except ValueError as e:\n",
    "    print(e)\n",
    "```\n",
    "\n",
    "---\n",
    "\n",
    "## 🚀 **7. 기타 주요 변경 사항**\n",
    "\n",
    "| **기능**       | **Python 2**            | **Python 3**            |\n",
    "|---------------|-------------------------|-------------------------|\n",
    "| **iteritems()** | `dict.iteritems()`      | `dict.items()`           |\n",
    "| **integer**    | `int`와 `long` 구분      | `int`로 통합됨           |\n",
    "| **Comparisons**| `cmp()` 함수 사용       | `__lt__`, `__gt__` 등 사용 |\n",
    "| **Libraries**  | 일부 모듈이 통합/제거됨 | 표준 라이브러리 업데이트 |\n",
    "\n",
    "---\n",
    "\n",
    "## 🚀 **8. 지원 및 업데이트**\n",
    "\n",
    "- **Python 2:** 2020년 1월 1일부로 지원 종료.  \n",
    "- **Python 3:** 현재 지속적인 업데이트 및 개선 중.\n",
    "\n",
    "✅ **Python 3로의 전환이 필수적입니다.**\n",
    "\n",
    "---\n",
    "\n",
    "## 🚀 **9. Python 2에서 Python 3로 마이그레이션**\n",
    "\n",
    "1. `2to3` 도구를 사용해 코드를 자동 변환.  \n",
    "   ```bash\n",
    "   2to3 your_script.py\n",
    "   ```\n",
    "2. 변환 후 수동으로 코드 검토.  \n",
    "3. `mypy`와 같은 도구로 타입 체크.  \n",
    "\n",
    "---\n",
    "\n",
    "## 🚀 **10. 결론**\n",
    "\n",
    "- **Python 2:** 더 이상 지원되지 않으므로 사용하지 말아야 합니다.  \n",
    "- **Python 3:** 유니코드 지원, 개선된 문법, 성능 향상으로 권장됩니다.\n",
    "\n",
    "✅ **새로운 프로젝트는 반드시 Python 3로 작성하세요!** 🚀🐍"
   ]
  },
  {
   "cell_type": "markdown",
   "metadata": {},
   "source": [
    "---"
   ]
  },
  {
   "cell_type": "markdown",
   "metadata": {},
   "source": [
    "<span style=\"font-size:80%\">[문제6]<br><br></span>\n",
    "```Python에서 메모리 관리는 어떻게 이루어지는지 설명해주세요```"
   ]
  },
  {
   "cell_type": "markdown",
   "metadata": {},
   "source": [
    "<span style=\"color:red\">답변</span>"
   ]
  },
  {
   "cell_type": "markdown",
   "metadata": {},
   "source": [
    "개발자가 명시적으로 메모리를 할당 해제할 필요가 없이 자동 관리를 지원"
   ]
  }
 ],
 "metadata": {
  "language_info": {
   "name": "python"
  }
 },
 "nbformat": 4,
 "nbformat_minor": 2
}

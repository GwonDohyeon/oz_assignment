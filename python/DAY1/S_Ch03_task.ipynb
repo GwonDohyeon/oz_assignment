{
 "cells": [
  {
   "cell_type": "markdown",
   "metadata": {},
   "source": [
    "<span style=\"font-size:100%\">\n",
    "\n",
    "수업은 모두 열심히 들으셨나요?\n",
    "\n",
    "간혹 강의에서 언급되지 않은 내용이 문제로 나올 수 있습니다.<br>\n",
    "그럴땐 강의 내용 외 문제는 구글링을 통해 해결해주세요<br></span>\n",
    "<span style=\"font-size:80%\">\n",
    "(구글링 또한 개발자가 갖쳐야할 역량 중에 하나랍니다 😊)\n",
    "</span>\n",
    "\n",
    "---"
   ]
  },
  {
   "cell_type": "markdown",
   "metadata": {},
   "source": [
    "<span style=\"font-size:80%\">[문제1]<br><br></span>\n",
    "```주로 작성 중인 코드의 끝을 알리는 기호로 사용되며 파이썬에서 한 줄에 작성된 서로 다른 코드를 구분 지을 때 사용할 수 있는 기호를 골라주세요```\n",
    "\n",
    "1. ' , ' (쉼표)\n",
    "2. ' + ' (더하기 기호)\n",
    "3. ' ; ' (세미콜론)\n",
    "4. ' / ' (슬래시)"
   ]
  },
  {
   "cell_type": "markdown",
   "metadata": {},
   "source": [
    "<span style=\"color:red\">답변</span> :"
   ]
  },
  {
   "cell_type": "markdown",
   "metadata": {},
   "source": [
    "3"
   ]
  },
  {
   "cell_type": "markdown",
   "metadata": {},
   "source": [
    "----"
   ]
  },
  {
   "cell_type": "markdown",
   "metadata": {},
   "source": [
    "<span style=\"font-size:80%\">[문제2]<br><br></span>\n",
    "```Python의 PEP 8은 무엇인지 설명하고 PEP 8의 핵심적인 규칙을 1개 이상을 설명해주세요```"
   ]
  },
  {
   "cell_type": "markdown",
   "metadata": {},
   "source": [
    "<span style=\"color:red\">답변</span>"
   ]
  },
  {
   "cell_type": "markdown",
   "metadata": {},
   "source": [
    "들여쓰기 스타일의 일관성 유지(4칸 공백 혹은 1회 tab)"
   ]
  },
  {
   "cell_type": "markdown",
   "metadata": {},
   "source": [
    "----"
   ]
  },
  {
   "cell_type": "markdown",
   "metadata": {},
   "source": [
    "<span style=\"font-size:80%\">[문제3]<br><br></span>\n",
    "```Python에서 \"#\"이 의마하는 것은 무엇인지 설명해주세요```"
   ]
  },
  {
   "cell_type": "markdown",
   "metadata": {},
   "source": [
    "<span style=\"color:red\">답변</span>"
   ]
  },
  {
   "cell_type": "markdown",
   "metadata": {},
   "source": [
    "주석"
   ]
  },
  {
   "cell_type": "markdown",
   "metadata": {},
   "source": [
    "----"
   ]
  },
  {
   "cell_type": "markdown",
   "metadata": {},
   "source": [
    "<span style=\"font-size:80%\">[문제4]<br><br></span>\n",
    "```Python의 들여쓰기 장점과 기능에 대해 설명해주세요```"
   ]
  },
  {
   "cell_type": "markdown",
   "metadata": {},
   "source": [
    "<span style=\"color:red\">답변</span>"
   ]
  },
  {
   "cell_type": "markdown",
   "metadata": {},
   "source": [
    "가독성, 문법적인 기능을 수행(코드 블럭 구분)"
   ]
  },
  {
   "cell_type": "markdown",
   "metadata": {},
   "source": [
    "----"
   ]
  },
  {
   "cell_type": "markdown",
   "metadata": {},
   "source": [
    "<span style=\"font-size:80%\">[문제5]<br><br></span>\n",
    "```print( )문의 기능 및 특징에 대해 설명해주세요```"
   ]
  },
  {
   "cell_type": "markdown",
   "metadata": {},
   "source": [
    "<span style=\"color:red\">답변</span>"
   ]
  },
  {
   "cell_type": "markdown",
   "metadata": {},
   "source": [
    "# 🖨️ **Python `print()` 함수의 기능**\n",
    "\n",
    "`print()` 함수는 **Python에서 표준 출력 장치(예: 터미널, 콘솔)에 데이터를 출력**할 때 사용됩니다. 디버깅, 결과 확인, 사용자에게 정보 제공 등 다양한 목적으로 사용됩니다.\n",
    "\n",
    "---\n",
    "\n",
    "## 🚀 **1. 기본 사용법**\n",
    "\n",
    "```python\n",
    "# 문자열 출력\n",
    "print(\"Hello, World!\")\n",
    "\n",
    "# 숫자 출력\n",
    "print(123)\n",
    "\n",
    "# 변수 출력\n",
    "name = \"Alice\"\n",
    "print(name)\n",
    "```\n",
    "\n",
    "**출력 결과:**  \n",
    "```\n",
    "Hello, World!\n",
    "123\n",
    "Alice\n",
    "```\n",
    "\n",
    "---\n",
    "\n",
    "## 🚀 **2. 여러 항목 출력하기**\n",
    "\n",
    "여러 항목을 출력할 때 `,` (콤마)를 사용하여 연결할 수 있습니다. 기본적으로 각 항목 사이에는 **공백(space)**이 삽입됩니다.\n",
    "\n",
    "```python\n",
    "print(\"Name:\", name, \"Age:\", 25)\n",
    "```\n",
    "\n",
    "**출력 결과:**  \n",
    "```\n",
    "Name: Alice Age: 25\n",
    "```\n",
    "\n",
    "---\n",
    "\n",
    "## 🚀 **3. 포맷팅 출력**\n",
    "\n",
    "### 🛠️ **3.1 `f-string` (Python 3.6+)**\n",
    "\n",
    "변수를 문자열에 삽입할 때 가장 많이 사용되는 방법입니다.\n",
    "\n",
    "```python\n",
    "name = \"Alice\"\n",
    "age = 25\n",
    "print(f\"My name is {name} and I am {age} years old.\")\n",
    "```\n",
    "\n",
    "**출력 결과:**  \n",
    "```\n",
    "My name is Alice and I am 25 years old.\n",
    "```\n",
    "\n",
    "### 🛠️ **3.2 `.format()`**\n",
    "\n",
    "`str.format()` 메서드를 사용할 수도 있습니다.\n",
    "\n",
    "```python\n",
    "print(\"My name is {} and I am {} years old.\".format(name, age))\n",
    "```\n",
    "\n",
    "### 🛠️ **3.3 `%` 포맷팅**\n",
    "\n",
    "과거 방식이지만 여전히 사용됩니다.\n",
    "\n",
    "```python\n",
    "print(\"My name is %s and I am %d years old.\" % (name, age))\n",
    "```\n",
    "\n",
    "---\n",
    "\n",
    "## 🚀 **4. `sep` 파라미터 (Separator)**\n",
    "\n",
    "- 여러 항목을 출력할 때 사이에 사용할 문자열을 지정합니다.  \n",
    "- 기본값은 공백(`' '`).\n",
    "\n",
    "```python\n",
    "print(\"apple\", \"banana\", \"cherry\", sep=\", \")\n",
    "```\n",
    "\n",
    "**출력 결과:**  \n",
    "```\n",
    "apple, banana, cherry\n",
    "```\n",
    "\n",
    "---\n",
    "\n",
    "## 🚀 **5. `end` 파라미터**\n",
    "\n",
    "- 출력이 끝난 후 사용할 문자열을 지정합니다.  \n",
    "- 기본값은 줄바꿈 문자(`'\\n'`).\n",
    "\n",
    "```python\n",
    "print(\"Hello\", end=\" \")\n",
    "print(\"World!\")\n",
    "```\n",
    "\n",
    "**출력 결과:**  \n",
    "```\n",
    "Hello World!\n",
    "```\n",
    "\n",
    "---\n",
    "\n",
    "## 🚀 **6. `file` 파라미터**\n",
    "\n",
    "- 출력을 파일 등 다른 출력 스트림으로 보낼 수 있습니다.  \n",
    "- 기본값은 `sys.stdout`입니다.\n",
    "\n",
    "```python\n",
    "with open(\"output.txt\", \"w\") as file:\n",
    "    print(\"This will be written to a file.\", file=file)\n",
    "```\n",
    "\n",
    "**`output.txt` 내용:**  \n",
    "```\n",
    "This will be written to a file.\n",
    "```\n",
    "\n",
    "---\n",
    "\n",
    "## 🚀 **7. `flush` 파라미터**\n",
    "\n",
    "- `flush=True`를 설정하면 출력 버퍼가 즉시 비워져 출력됩니다.  \n",
    "- 네트워크 또는 파일 I/O와 함께 사용할 때 유용합니다.\n",
    "\n",
    "```python\n",
    "import time\n",
    "\n",
    "for i in range(5):\n",
    "    print(i, end=\" \", flush=True)\n",
    "    time.sleep(1)\n",
    "```\n",
    "\n",
    "---\n",
    "\n",
    "## 🚀 **8. 특수 문자 출력**\n",
    "\n",
    "- **`\\n`:** 줄바꿈  \n",
    "- **`\\t`:** 탭  \n",
    "- **`\\\\`:** 백슬래시  \n",
    "\n",
    "```python\n",
    "print(\"Line1\\nLine2\")\n",
    "print(\"Column1\\tColumn2\")\n",
    "print(\"This is a backslash: \\\\\")\n",
    "```\n",
    "\n",
    "**출력 결과:**  \n",
    "```\n",
    "Line1\n",
    "Line2\n",
    "Column1\tColumn2\n",
    "This is a backslash: \\\n",
    "```\n",
    "\n",
    "---\n",
    "\n",
    "## 🚀 **9. 디버깅 도구로 사용**\n",
    "\n",
    "`print()`는 디버깅에 자주 사용됩니다.  \n",
    "\n",
    "```python\n",
    "x = 5\n",
    "y = 10\n",
    "print(\"x:\", x, \"y:\", y)\n",
    "```\n",
    "\n",
    "---\n",
    "\n",
    "## 🚀 **10. 다양한 데이터 타입 출력**\n",
    "\n",
    "`print()`는 다양한 데이터 타입을 자동으로 문자열로 변환하여 출력합니다.\n",
    "\n",
    "```python\n",
    "print(42)               # 정수\n",
    "print(3.14)             # 실수\n",
    "print([1, 2, 3])        # 리스트\n",
    "print({\"key\": \"value\"}) # 딕셔너리\n",
    "print(True)             # 불리언\n",
    "```\n",
    "\n",
    "**출력 결과:**  \n",
    "```\n",
    "42\n",
    "3.14\n",
    "[1, 2, 3]\n",
    "{'key': 'value'}\n",
    "True\n",
    "```\n",
    "\n",
    "---\n",
    "\n",
    "## 🚀 **11. 예제 코드**\n",
    "\n",
    "### 🛠️ **기본 사용법 예시**\n",
    "\n",
    "```python\n",
    "# 기본 출력\n",
    "print(\"Hello, World!\")\n",
    "\n",
    "# 여러 항목 출력\n",
    "print(\"Python\", \"is\", \"fun!\", sep=\" - \")\n",
    "\n",
    "# 포맷팅 출력\n",
    "name = \"Alice\"\n",
    "age = 25\n",
    "print(f\"{name} is {age} years old.\")\n",
    "\n",
    "# 파일에 출력\n",
    "with open(\"log.txt\", \"w\") as f:\n",
    "    print(\"Logging information...\", file=f)\n",
    "```\n",
    "\n",
    "---\n",
    "\n",
    "## 🚀 **12. 요약**\n",
    "\n",
    "| **파라미터** | **설명**           | **예시**                    |\n",
    "|-------------|------------------|--------------------------|\n",
    "| **`sep`**   | 항목 사이 문자 지정  | `print(1, 2, 3, sep=\",\")`  |\n",
    "| **`end`**   | 출력 후 문자 지정   | `print(\"Hi\", end=\"!!\")`   |\n",
    "| **`file`**  | 출력 대상 지정      | `print(\"Log\", file=f)`    |\n",
    "| **`flush`** | 버퍼 강제 비움      | `print(\"Flush\", flush=True)` |\n",
    "\n",
    "---\n",
    "\n",
    "## 🚀 **13. 결론**\n",
    "\n",
    "- `print()`는 Python에서 가장 많이 사용되는 함수 중 하나입니다.  \n",
    "- 다양한 옵션(`sep`, `end`, `file`, `flush`)을 활용하면 더 강력하게 사용할 수 있습니다.  \n",
    "- 디버깅, 데이터 출력, 파일 쓰기 등 다양한 용도로 활용하세요! 🚀🐍"
   ]
  }
 ],
 "metadata": {
  "language_info": {
   "name": "python"
  }
 },
 "nbformat": 4,
 "nbformat_minor": 2
}

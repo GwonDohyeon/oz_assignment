{
 "cells": [
  {
   "cell_type": "markdown",
   "metadata": {},
   "source": [
    "함수 실행 시간을 측정하는 데코레이터 timer_decorator를 작성하세요. \n",
    "\n",
    "임의의 함수가 실행되는 시간을 측정하여 \"함수 실행 시간: x.xx초\" 형태로 출력하세요."
   ]
  },
  {
   "cell_type": "code",
   "execution_count": 12,
   "metadata": {},
   "outputs": [
    {
     "name": "stdout",
     "output_type": "stream",
     "text": [
      "aaaaaaaaaaaa\n",
      "함수 실행 시간: 2.02\n"
     ]
    }
   ],
   "source": [
    "from time import time,sleep\n",
    "def timer_decorator(func):\n",
    "    def wrapper(*args,**kwargs):\n",
    "        start=time()\n",
    "        func(*args,**kwargs)\n",
    "        end=time()\n",
    "        print(f\"함수 실행 시간: {end-start:.2f}\")\n",
    "        return None\n",
    "    return wrapper\n",
    "\"\"\"\n",
    "매개변수를 요구하는 데코레이터 함수\n",
    "def decorator_with_param(param):\n",
    "    def decorator(func):\n",
    "        def wrapper(*args,**kwargs):\n",
    "            start=time()\n",
    "            r=func(*args,**kwargs)\n",
    "            end=time()\n",
    "            print(f\"함수 실행 시간: {end-start:.2f},{param}\")\n",
    "            return r\n",
    "        return wrapper\n",
    "    return decorator\n",
    "@decorator_with_param(10)\n",
    "\"\"\"\n",
    "@timer_decorator\n",
    "def func():\n",
    "    print(\"aaaaaaaaaaaa\")\n",
    "    sleep(2)\n",
    "    \n",
    "func()"
   ]
  },
  {
   "cell_type": "code",
   "execution_count": 13,
   "metadata": {},
   "outputs": [
    {
     "name": "stdout",
     "output_type": "stream",
     "text": [
      "aaaaaaaaaaaa\n",
      "함수 실행 시간: 2.01\n"
     ]
    }
   ],
   "source": [
    "from time import time,sleep\n",
    "class timer_decorator:\n",
    "    def __init__(self,func):\n",
    "        self.func=func\n",
    "    def __call__(self,*args,**kwargs):\n",
    "        start=time()\n",
    "        self.func(*args,**kwargs)\n",
    "        end=time()\n",
    "        print(f\"함수 실행 시간: {end-start:.2f}\")\n",
    "        return None\n",
    "\"\"\"\n",
    "매개변수를 요구하는 데코레이터 클래스\n",
    "class timer_decorator:\n",
    "    def __init__(self,param):\n",
    "        self.param=param\n",
    "    def __call__(self,func):\n",
    "        def wrapper(*args,**kwargs):\n",
    "            start=time()\n",
    "            r=self.func(*args,**kwargs)\n",
    "            end=time()\n",
    "            print(f\"함수 실행 시간: {end-start:.2f},{self.param}\")\n",
    "            return r\n",
    "        return wrapper\n",
    "        \n",
    "@ timer_decorator(10)\n",
    "def func():\n",
    "    print(\"aaaaaaaaaaaa\")\n",
    "    sleep(2)\n",
    "    \n",
    "func() # func=timer_decorator(10)(func) @timer_decorator def func()에서 timer_decorator(10)인스턴스가 형성(=__init__실행)이 되고 \n",
    "func()호출 시 timer_decorator(10)인스턴스에 대한 __call__이 실행이 되는 것\n",
    "\"\"\"\n",
    "@timer_decorator\n",
    "def func():\n",
    "    print(\"aaaaaaaaaaaa\")\n",
    "    sleep(2)\n",
    "    \n",
    "func() # func=timer_decorator(func)"
   ]
  }
 ],
 "metadata": {
  "kernelspec": {
   "display_name": "base",
   "language": "python",
   "name": "python3"
  },
  "language_info": {
   "codemirror_mode": {
    "name": "ipython",
    "version": 3
   },
   "file_extension": ".py",
   "mimetype": "text/x-python",
   "name": "python",
   "nbconvert_exporter": "python",
   "pygments_lexer": "ipython3",
   "version": "3.9.13"
  }
 },
 "nbformat": 4,
 "nbformat_minor": 2
}
